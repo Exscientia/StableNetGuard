{
 "cells": [
  {
   "cell_type": "code",
   "execution_count": null,
   "metadata": {},
   "outputs": [],
   "source": [
    "%matplotlib widget\n",
    "from guardowl.vis import MonitoringPlotter\n",
    "prefix_path = \"../scripts/test_stability_protocol/\""
   ]
  },
  {
   "cell_type": "code",
   "execution_count": null,
   "metadata": {},
   "outputs": [],
   "source": [
    "# plot 15A waterbox\n",
    "\n",
    "system_name = 'vacuum_ZINC00061095'\n",
    "nnp = 'ani2x'\n",
    "implementation = 'torchani'\n",
    "s = MonitoringPlotter(f\"{prefix_path}/{system_name}_{nnp}_{implementation}.dcd\", \n",
    "                      f'{prefix_path}/{system_name}_{nnp}_{implementation}.pdb', \n",
    "                      f'{prefix_path}/{system_name}_{nnp}_{implementation}.csv')\n",
    "\n",
    "s.set_nglview(superpose=True)\n",
    "s.generate_summary()\n"
   ]
  },
  {
   "cell_type": "code",
   "execution_count": null,
   "metadata": {},
   "outputs": [],
   "source": [
    "# plot 15A waterbox\n",
    "\n",
    "system_name = 'vacuum_ZINC00061095'\n",
    "nnp = 'ani2x'\n",
    "implementation = 'nnpops'\n",
    "s = MonitoringPlotter(f\"{prefix_path}/{system_name}_{nnp}_{implementation}.dcd\", \n",
    "                      f'{prefix_path}/{system_name}_{nnp}_{implementation}.pdb', \n",
    "                      f'{prefix_path}/{system_name}_{nnp}_{implementation}.csv')\n",
    "\n",
    "s.set_nglview(superpose=True)\n",
    "s.generate_summary()\n"
   ]
  },
  {
   "cell_type": "code",
   "execution_count": null,
   "metadata": {},
   "outputs": [],
   "source": [
    "# plot 15A waterbox\n",
    "\n",
    "system_name = 'vacuum_ZINC00077329'\n",
    "nnp = 'ani2x'\n",
    "implementation = 'nnpops'\n",
    "temperature = 500\n",
    "s = MonitoringPlotter(f\"{prefix_path}/{system_name}_{nnp}_{implementation}_{temperature}.dcd\", \n",
    "                      f'{prefix_path}/{system_name}_{nnp}_{implementation}_{temperature}.pdb', \n",
    "                      f'{prefix_path}/{system_name}_{nnp}_{implementation}_{temperature}.csv')\n",
    "\n",
    "s.set_nglview(superpose=True)\n",
    "s.generate_summary()\n"
   ]
  }
 ],
 "metadata": {
  "kernelspec": {
   "display_name": "Python 3",
   "language": "python",
   "name": "python3"
  },
  "language_info": {
   "codemirror_mode": {
    "name": "ipython",
    "version": 3
   },
   "file_extension": ".py",
   "mimetype": "text/x-python",
   "name": "python",
   "nbconvert_exporter": "python",
   "pygments_lexer": "ipython3",
   "version": "3.11.5"
  },
  "orig_nbformat": 4,
  "vscode": {
   "interpreter": {
    "hash": "9950aceeff53ddab0f3683075eeac967240137f20f9a78c97a6540a3c57d4d10"
   }
  }
 },
 "nbformat": 4,
 "nbformat_minor": 2
}
