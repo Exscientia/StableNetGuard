{
 "cells": [
  {
   "cell_type": "code",
   "execution_count": null,
   "metadata": {},
   "outputs": [],
   "source": [
    "%matplotlib widget\n",
    "from exs.quams.vis import MonitoringPlotter\n",
    "prefix_path = \"../test_stability_protocol/\""
   ]
  },
  {
   "cell_type": "code",
   "execution_count": null,
   "metadata": {},
   "outputs": [],
   "source": [
    "# visualize DOF scan\n",
    "system_name = 'vacuum_ethanol'\n",
    "implementation = 'nnpops'\n",
    "s = MonitoringPlotter(f\"{prefix_path}/{system_name}_ani2x_{implementation}.dcd\", \n",
    "                      f'{prefix_path}/{system_name}_ani2x_{implementation}.pdb', \n",
    "                      f'{prefix_path}/{system_name}_ani2x_{implementation}.csv')\n",
    "\n",
    "s.set_nglview()\n",
    "s.nglview.add_representation('licorice',selection=\"water\")\n",
    "s.generate_summary(bonded_scan=True)"
   ]
  },
  {
   "cell_type": "code",
   "execution_count": null,
   "metadata": {},
   "outputs": [],
   "source": [
    "# plot 15A waterbox\n",
    "\n",
    "prefix_path = \"../test_stability_protocol/\"\n",
    "system_name = 'waterbox'\n",
    "ensemble = 'NVT'\n",
    "nnp = 'ani2x'\n",
    "implementation = 'nnpops'\n",
    "s = MonitoringPlotter(f\"{prefix_path}/{system_name}_15A_{nnp}_{implementation}_{ensemble}.dcd\", \n",
    "                      f'{prefix_path}/{system_name}_15A_{nnp}_{implementation}_{ensemble}.pdb', \n",
    "                      f'{prefix_path}/{system_name}_15A_{nnp}_{implementation}_{ensemble}.csv')\n",
    "\n",
    "s.set_nglview(wrap=True, periodic=True)\n",
    "s.nglview.add_representation('licorice',selection=\"water\")\n",
    "s.generate_summary(water_bond_length=True, rdf=True)\n"
   ]
  }
 ],
 "metadata": {
  "kernelspec": {
   "display_name": "Python 3",
   "language": "python",
   "name": "python3"
  },
  "language_info": {
   "codemirror_mode": {
    "name": "ipython",
    "version": 3
   },
   "file_extension": ".py",
   "mimetype": "text/x-python",
   "name": "python",
   "nbconvert_exporter": "python",
   "pygments_lexer": "ipython3",
   "version": "3.10.9"
  },
  "orig_nbformat": 4,
  "vscode": {
   "interpreter": {
    "hash": "9950aceeff53ddab0f3683075eeac967240137f20f9a78c97a6540a3c57d4d10"
   }
  }
 },
 "nbformat": 4,
 "nbformat_minor": 2
}
